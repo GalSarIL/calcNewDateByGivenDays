{
 "cells": [
  {
   "cell_type": "markdown",
   "metadata": {},
   "source": [
    "Created on Fri Jul 16 11:52:50 2021\n",
    "Main algorithm finished on Fri Jul 16 13:12:50 2021\n",
    "\n",
    "@author: gal.si"
   ]
  },
  {
   "cell_type": "code",
   "execution_count": 2,
   "metadata": {},
   "outputs": [],
   "source": [
    "class UnAcceptedValueError(Exception):   \n",
    "    def __init__(self, data):    \n",
    "        self.data = data\n",
    "    def __str__(self):\n",
    "        return repr(self.data)\n",
    "import datetime"
   ]
  },
  {
   "cell_type": "code",
   "execution_count": 3,
   "metadata": {},
   "outputs": [],
   "source": [
    "#This function receives the current month and year\n",
    "#Returns number of days in a given month\n",
    "#Using the year to test if this year is a \"leap\" year, for adding a day in February\n",
    "#Using the month to return the number of days in that given month\n",
    "def getNumOfDaysInMonth(currMonth, year):\n",
    "    switcher = {\n",
    "    12: 31,\n",
    "    11: 30,\n",
    "    10: 31,\n",
    "    9: 30,\n",
    "    8: 31,\n",
    "    7: 31,\n",
    "    6: 30,\n",
    "    5: 31,\n",
    "    4: 30,\n",
    "    3: 31,\n",
    "    2: 28,\n",
    "    1: 31\n",
    "    }\n",
    "    if currMonth == 2:\n",
    "        if (year % 100 != 0 and year % 4 == 0 or year % 400 == 0):\n",
    "            return switcher.get(currMonth) + 1\n",
    "    return switcher.get(currMonth)"
   ]
  },
  {
   "cell_type": "code",
   "execution_count": 7,
   "metadata": {},
   "outputs": [],
   "source": [
    "#This function receives a date and number of days, and returns the new calculated date\n",
    "#Doing so by iterating until the given days becomes zero\n",
    "#Each iteration if the days left greater than the number of days in current month, \n",
    "#substracting current days in month with current day, advancing a month(and year if needed)\n",
    "#else, adding the left days into our current day(and advancing a month if needed)\n",
    "def calcNewDateByGivenDays():\n",
    "    isValidInfo = True\n",
    "    while(isValidInfo):\n",
    "        year = input(\"Please enter the year(YYYY):\\n\")\n",
    "        month = input(\"Please enter the month:\\n\")\n",
    "        day = input(\"Please enter the day:\\n\")\n",
    "        try:\n",
    "            if(year.isdigit()):\n",
    "                year = int(year)\n",
    "            else:\n",
    "                raise UnAcceptedValueError(\"You should enter year as a number.\\nTry again\")\n",
    "            if(month.isdigit() and int(month) <= 12 and int(month) >= 1):\n",
    "                month = int(month)\n",
    "            else:\n",
    "                raise UnAcceptedValueError(\"You should enter month as number and between 1 to 12.\\nPlease Try Again\")\n",
    "            if(day.isdigit() and int(day) <= getNumOfDaysInMonth(month, year) and int(day) >= 1):\n",
    "                day = int(day)\n",
    "            else:\n",
    "                raise UnAcceptedValueError(f\"You should enter day as number and between 1 to {getNumOfDaysInMonth(month, year)}\")\n",
    "            addedDays = input(\"Please enter the amount days to add to your given date:\\n\")\n",
    "            if(addedDays.isdigit() and int(addedDays) >= 0):\n",
    "                addedDays = int(addedDays)\n",
    "            else:\n",
    "                raise UnAcceptedValueError(\"You should enter number of days that is a number and greater than 0\")\n",
    "        except UnAcceptedValueError as e:\n",
    "            print (\"Received error:\", e.data)\n",
    "        else:\n",
    "            isValidInfo = False\n",
    "    tmpAddingDays = 0\n",
    "    #For testing#\n",
    "    current_date = f\"{month}/{day}/{year % 100}\"\n",
    "    current_date_temp = datetime.datetime.strptime(current_date, \"%m/%d/%y\")\n",
    "    newdate = current_date_temp + datetime.timedelta(days=addedDays)\n",
    "    print(f\"Testing calculated date:{newdate}\")\n",
    "    #/End testing#\n",
    "    while(addedDays != 0):\n",
    "        currMonthNumDays = getNumOfDaysInMonth(month, year)\n",
    "        if addedDays > currMonthNumDays: #First case, num of given days > num days in month\n",
    "            tmpAddingDays = currMonthNumDays - day + 1\n",
    "            if month == 12: #If we reached December and we need to advance a year\n",
    "                month = 1\n",
    "                year = year+1\n",
    "            else: #No advancing year needed\n",
    "                month = month + 1                \n",
    "            day = 1\n",
    "            addedDays = addedDays - tmpAddingDays\n",
    "        else: #Second case, num of given days <= num days in month\n",
    "            if (day + addedDays) > currMonthNumDays: #First case insdide second case\n",
    "                                                     #We still need to advance a month\n",
    "                if month == 12:#If we reached December and we need to advance a year\n",
    "                    year = year + 1\n",
    "                    month = 1\n",
    "                else: #No advancing year needed\n",
    "                    month = month + 1\n",
    "                day = addedDays - (currMonthNumDays - day) \n",
    "                addedDays = 0\n",
    "            else: #Second case inside second case\n",
    "                  #No need to advance a month, just add left-over days\n",
    "                day = day + addedDays\n",
    "                addedDays = 0\n",
    "    print(f\"New date is: {year}-{month}-{day}\")"
   ]
  },
  {
   "cell_type": "code",
   "execution_count": 9,
   "metadata": {},
   "outputs": [
    {
     "name": "stdout",
     "output_type": "stream",
     "text": [
      "Please enter the year(YYYY):\n",
      "1993\n",
      "Please enter the month:\n",
      "9\n",
      "Please enter the day:\n",
      "17\n",
      "Please enter the amount days to add to your given date:\n",
      "4000\n",
      "Testing calculated date:2004-08-30 00:00:00\n",
      "New date is: 2004-8-30\n"
     ]
    }
   ],
   "source": [
    "calcNewDateByGivenDays() #Leaping years forward"
   ]
  },
  {
   "cell_type": "code",
   "execution_count": 10,
   "metadata": {},
   "outputs": [
    {
     "name": "stdout",
     "output_type": "stream",
     "text": [
      "Please enter the year(YYYY):\n",
      "2020\n",
      "Please enter the month:\n",
      "5\n",
      "Please enter the day:\n",
      "22\n",
      "Please enter the amount days to add to your given date:\n",
      "15\n",
      "Testing calculated date:2020-06-06 00:00:00\n",
      "New date is: 2020-6-6\n"
     ]
    }
   ],
   "source": [
    "calcNewDateByGivenDays() #Leaping 1 month forward"
   ]
  },
  {
   "cell_type": "code",
   "execution_count": 11,
   "metadata": {},
   "outputs": [
    {
     "name": "stdout",
     "output_type": "stream",
     "text": [
      "Please enter the year(YYYY):\n",
      "2015\n",
      "Please enter the month:\n",
      "5\n",
      "Please enter the day:\n",
      "22\n",
      "Please enter the amount days to add to your given date:\n",
      "4\n",
      "Testing calculated date:2015-05-26 00:00:00\n",
      "New date is: 2015-5-26\n"
     ]
    }
   ],
   "source": [
    "calcNewDateByGivenDays() #Staying on same month"
   ]
  },
  {
   "cell_type": "code",
   "execution_count": 12,
   "metadata": {},
   "outputs": [
    {
     "name": "stdout",
     "output_type": "stream",
     "text": [
      "Please enter the year(YYYY):\n",
      "asd\n",
      "Please enter the month:\n",
      "11\n",
      "Please enter the day:\n",
      "15\n",
      "Received error: You should enter year as a number.\n",
      "Try again\n",
      "Please enter the year(YYYY):\n",
      "1940\n",
      "Please enter the month:\n",
      "15\n",
      "Please enter the day:\n",
      "15\n",
      "Received error: You should enter month as number and between 1 to 12.\n",
      "Please Try Again\n",
      "Please enter the year(YYYY):\n",
      "2011\n",
      "Please enter the month:\n",
      "5\n",
      "Please enter the day:\n",
      "ff\n",
      "Received error: You should enter day as number and between 1 to 31\n",
      "Please enter the year(YYYY):\n",
      "2015\n",
      "Please enter the month:\n",
      "2\n",
      "Please enter the day:\n",
      "30\n",
      "Received error: You should enter day as number and between 1 to 28\n",
      "Please enter the year(YYYY):\n",
      "2010\n",
      "Please enter the month:\n",
      "5\n",
      "Please enter the day:\n",
      "5\n",
      "Please enter the amount days to add to your given date:\n",
      "40\n",
      "Testing calculated date:2010-06-14 00:00:00\n",
      "New date is: 2010-6-14\n"
     ]
    }
   ],
   "source": [
    "calcNewDateByGivenDays() #Testing fields"
   ]
  }
 ],
 "metadata": {
  "kernelspec": {
   "display_name": "Python 3",
   "language": "python",
   "name": "python3"
  },
  "language_info": {
   "codemirror_mode": {
    "name": "ipython",
    "version": 3
   },
   "file_extension": ".py",
   "mimetype": "text/x-python",
   "name": "python",
   "nbconvert_exporter": "python",
   "pygments_lexer": "ipython3",
   "version": "3.8.5"
  }
 },
 "nbformat": 4,
 "nbformat_minor": 4
}
